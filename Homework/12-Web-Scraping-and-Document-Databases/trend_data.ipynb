{
 "cells": [
  {
   "cell_type": "code",
   "execution_count": 1,
   "metadata": {},
   "outputs": [],
   "source": [
    "import pandas as pd\n",
    "from sqlalchemy import create_engine\n",
    "import json\n",
    "from pandas.io.json import json_normalize\n",
    "import pprint\n",
    "import numpy as np\n",
    "from webdriver_manager.chrome import ChromeDriverManager "
   ]
  },
  {
   "cell_type": "markdown",
   "metadata": {},
   "source": [
    "## Extract Youtube Data"
   ]
  },
  {
   "cell_type": "code",
   "execution_count": 2,
   "metadata": {},
   "outputs": [
    {
     "data": {
      "text/html": [
       "<div>\n",
       "<style scoped>\n",
       "    .dataframe tbody tr th:only-of-type {\n",
       "        vertical-align: middle;\n",
       "    }\n",
       "\n",
       "    .dataframe tbody tr th {\n",
       "        vertical-align: top;\n",
       "    }\n",
       "\n",
       "    .dataframe thead th {\n",
       "        text-align: right;\n",
       "    }\n",
       "</style>\n",
       "<table border=\"1\" class=\"dataframe\">\n",
       "  <thead>\n",
       "    <tr style=\"text-align: right;\">\n",
       "      <th></th>\n",
       "      <th>video_id</th>\n",
       "      <th>title</th>\n",
       "      <th>tags</th>\n",
       "      <th>views</th>\n",
       "      <th>video_url</th>\n",
       "    </tr>\n",
       "  </thead>\n",
       "  <tbody>\n",
       "    <tr>\n",
       "      <th>10</th>\n",
       "      <td>9wRQljFNDW8</td>\n",
       "      <td>Dion Lewis' 103-Yd Kick Return TD vs. Denver! ...</td>\n",
       "      <td>NFL|\"Football\"|\"offense\"|\"defense\"|\"afc\"|\"nfc\"...</td>\n",
       "      <td>81377</td>\n",
       "      <td>https://www.youtube.com/watch?v=9wRQljFNDW8</td>\n",
       "    </tr>\n",
       "    <tr>\n",
       "      <th>36</th>\n",
       "      <td>Om_zGhJLZ5U</td>\n",
       "      <td>TL;DW - Every DCEU Movie Before Justice League</td>\n",
       "      <td>screenjunkies|\"screen junkies\"|\"sj news\"|\"hone...</td>\n",
       "      <td>288922</td>\n",
       "      <td>https://www.youtube.com/watch?v=Om_zGhJLZ5U</td>\n",
       "    </tr>\n",
       "    <tr>\n",
       "      <th>41</th>\n",
       "      <td>goP4Z5wyOlM</td>\n",
       "      <td>Iraq-Iran earthquake: Deadly tremor hits borde...</td>\n",
       "      <td>bbc|\"bbc news\"|\"news\"|\"iran\"|\"iran news\"|\"iraq...</td>\n",
       "      <td>34785</td>\n",
       "      <td>https://www.youtube.com/watch?v=goP4Z5wyOlM</td>\n",
       "    </tr>\n",
       "    <tr>\n",
       "      <th>55</th>\n",
       "      <td>8NHA23f7LvU</td>\n",
       "      <td>Jason Momoa Wows Hugh Grant With Some Dothraki...</td>\n",
       "      <td>Graham Norton|\"Graham Norton Show Official\"|\"E...</td>\n",
       "      <td>1496225</td>\n",
       "      <td>https://www.youtube.com/watch?v=8NHA23f7LvU</td>\n",
       "    </tr>\n",
       "    <tr>\n",
       "      <th>76</th>\n",
       "      <td>IE-xepGLVt8</td>\n",
       "      <td>Mayo Clinic's first face transplant patient me...</td>\n",
       "      <td>Mayo Clinic|\"Health Care (Issue)\"|\"Healthcare ...</td>\n",
       "      <td>237307</td>\n",
       "      <td>https://www.youtube.com/watch?v=IE-xepGLVt8</td>\n",
       "    </tr>\n",
       "  </tbody>\n",
       "</table>\n",
       "</div>"
      ],
      "text/plain": [
       "       video_id                                              title  \\\n",
       "10  9wRQljFNDW8  Dion Lewis' 103-Yd Kick Return TD vs. Denver! ...   \n",
       "36  Om_zGhJLZ5U     TL;DW - Every DCEU Movie Before Justice League   \n",
       "41  goP4Z5wyOlM  Iraq-Iran earthquake: Deadly tremor hits borde...   \n",
       "55  8NHA23f7LvU  Jason Momoa Wows Hugh Grant With Some Dothraki...   \n",
       "76  IE-xepGLVt8  Mayo Clinic's first face transplant patient me...   \n",
       "\n",
       "                                                 tags    views  \\\n",
       "10  NFL|\"Football\"|\"offense\"|\"defense\"|\"afc\"|\"nfc\"...    81377   \n",
       "36  screenjunkies|\"screen junkies\"|\"sj news\"|\"hone...   288922   \n",
       "41  bbc|\"bbc news\"|\"news\"|\"iran\"|\"iran news\"|\"iraq...    34785   \n",
       "55  Graham Norton|\"Graham Norton Show Official\"|\"E...  1496225   \n",
       "76  Mayo Clinic|\"Health Care (Issue)\"|\"Healthcare ...   237307   \n",
       "\n",
       "                                      video_url  \n",
       "10  https://www.youtube.com/watch?v=9wRQljFNDW8  \n",
       "36  https://www.youtube.com/watch?v=Om_zGhJLZ5U  \n",
       "41  https://www.youtube.com/watch?v=goP4Z5wyOlM  \n",
       "55  https://www.youtube.com/watch?v=8NHA23f7LvU  \n",
       "76  https://www.youtube.com/watch?v=IE-xepGLVt8  "
      ]
     },
     "execution_count": 2,
     "metadata": {},
     "output_type": "execute_result"
    }
   ],
   "source": [
    "csv_file = \"./Resources/USvideos.csv\"\n",
    "youtube_data_df = pd.read_csv(csv_file, usecols=['video_id', 'title', 'views', 'tags'])\n",
    "\n",
    "\n",
    "video_preurl = \"https://www.youtube.com/watch?v=\"\n",
    "youtube_data_df = youtube_data_df.drop_duplicates(subset=\"video_id\", keep=\"last\")\n",
    "\n",
    "youtube_data_df['video_url'] = video_preurl + youtube_data_df['video_id']\n",
    "\n",
    "youtube_data_df.head()"
   ]
  },
  {
   "cell_type": "code",
   "execution_count": 3,
   "metadata": {},
   "outputs": [
    {
     "data": {
      "text/html": [
       "<div>\n",
       "<style scoped>\n",
       "    .dataframe tbody tr th:only-of-type {\n",
       "        vertical-align: middle;\n",
       "    }\n",
       "\n",
       "    .dataframe tbody tr th {\n",
       "        vertical-align: top;\n",
       "    }\n",
       "\n",
       "    .dataframe thead th {\n",
       "        text-align: right;\n",
       "    }\n",
       "</style>\n",
       "<table border=\"1\" class=\"dataframe\">\n",
       "  <thead>\n",
       "    <tr style=\"text-align: right;\">\n",
       "      <th></th>\n",
       "      <th>video_id</th>\n",
       "      <th>title</th>\n",
       "      <th>tags</th>\n",
       "      <th>views</th>\n",
       "      <th>video_url</th>\n",
       "    </tr>\n",
       "  </thead>\n",
       "  <tbody>\n",
       "    <tr>\n",
       "      <th>3597</th>\n",
       "      <td>JcC5VGOx8I8</td>\n",
       "      <td>Calum Scott - You Are The Reason (Lyric Video)</td>\n",
       "      <td>Pop|\"calum scott\"|\"you are the reason\"|\"you ar...</td>\n",
       "      <td>1728219</td>\n",
       "      <td>https://www.youtube.com/watch?v=JcC5VGOx8I8</td>\n",
       "    </tr>\n",
       "  </tbody>\n",
       "</table>\n",
       "</div>"
      ],
      "text/plain": [
       "         video_id                                           title  \\\n",
       "3597  JcC5VGOx8I8  Calum Scott - You Are The Reason (Lyric Video)   \n",
       "\n",
       "                                                   tags    views  \\\n",
       "3597  Pop|\"calum scott\"|\"you are the reason\"|\"you ar...  1728219   \n",
       "\n",
       "                                        video_url  \n",
       "3597  https://www.youtube.com/watch?v=JcC5VGOx8I8  "
      ]
     },
     "execution_count": 3,
     "metadata": {},
     "output_type": "execute_result"
    }
   ],
   "source": [
    "youtube_data_df[youtube_data_df['video_id']=='JcC5VGOx8I8']"
   ]
  },
  {
   "cell_type": "markdown",
   "metadata": {},
   "source": [
    "## Extract TikTot Data"
   ]
  },
  {
   "cell_type": "code",
   "execution_count": 4,
   "metadata": {},
   "outputs": [
    {
     "data": {
      "text/html": [
       "<div>\n",
       "<style scoped>\n",
       "    .dataframe tbody tr th:only-of-type {\n",
       "        vertical-align: middle;\n",
       "    }\n",
       "\n",
       "    .dataframe tbody tr th {\n",
       "        vertical-align: top;\n",
       "    }\n",
       "\n",
       "    .dataframe thead th {\n",
       "        text-align: right;\n",
       "    }\n",
       "</style>\n",
       "<table border=\"1\" class=\"dataframe\">\n",
       "  <thead>\n",
       "    <tr style=\"text-align: right;\">\n",
       "      <th></th>\n",
       "      <th>id</th>\n",
       "      <th>text</th>\n",
       "      <th>webVideoUrl</th>\n",
       "      <th>playCount</th>\n",
       "      <th>hashtags</th>\n",
       "    </tr>\n",
       "  </thead>\n",
       "  <tbody>\n",
       "    <tr>\n",
       "      <th>0</th>\n",
       "      <td>6907228749016714497</td>\n",
       "      <td>Confidence went 📈</td>\n",
       "      <td>https://www.tiktok.com/@ninakleij/video/690722...</td>\n",
       "      <td>44800</td>\n",
       "      <td>[]</td>\n",
       "    </tr>\n",
       "    <tr>\n",
       "      <th>1</th>\n",
       "      <td>6875468410612993286</td>\n",
       "      <td>Quiet Zone... follow me on insta: joeysofo. Co...</td>\n",
       "      <td>https://www.tiktok.com/@joeysofo/video/6875468...</td>\n",
       "      <td>838100</td>\n",
       "      <td>[]</td>\n",
       "    </tr>\n",
       "    <tr>\n",
       "      <th>2</th>\n",
       "      <td>6898699405898059010</td>\n",
       "      <td>Iphone bend test🤗 #tiktok #viral #fyp #iphone ...</td>\n",
       "      <td>https://www.tiktok.com/@jackeyephone/video/689...</td>\n",
       "      <td>15300000</td>\n",
       "      <td>[{'id': '23428', 'name': 'tiktok', 'title': ''...</td>\n",
       "    </tr>\n",
       "    <tr>\n",
       "      <th>3</th>\n",
       "      <td>6902819837345533186</td>\n",
       "      <td></td>\n",
       "      <td>https://www.tiktok.com/@naomivaneeren/video/69...</td>\n",
       "      <td>94900</td>\n",
       "      <td>[]</td>\n",
       "    </tr>\n",
       "    <tr>\n",
       "      <th>4</th>\n",
       "      <td>6905635666588192002</td>\n",
       "      <td>小技です👟✨#tiktok教室#tutorial</td>\n",
       "      <td>https://www.tiktok.com/@io.dreamer_mk/video/69...</td>\n",
       "      <td>115300</td>\n",
       "      <td>[{'id': '1627704798586882', 'name': 'tiktok教室'...</td>\n",
       "    </tr>\n",
       "  </tbody>\n",
       "</table>\n",
       "</div>"
      ],
      "text/plain": [
       "                    id                                               text  \\\n",
       "0  6907228749016714497                                  Confidence went 📈   \n",
       "1  6875468410612993286  Quiet Zone... follow me on insta: joeysofo. Co...   \n",
       "2  6898699405898059010  Iphone bend test🤗 #tiktok #viral #fyp #iphone ...   \n",
       "3  6902819837345533186                                                      \n",
       "4  6905635666588192002                           小技です👟✨#tiktok教室#tutorial   \n",
       "\n",
       "                                         webVideoUrl  playCount  \\\n",
       "0  https://www.tiktok.com/@ninakleij/video/690722...      44800   \n",
       "1  https://www.tiktok.com/@joeysofo/video/6875468...     838100   \n",
       "2  https://www.tiktok.com/@jackeyephone/video/689...   15300000   \n",
       "3  https://www.tiktok.com/@naomivaneeren/video/69...      94900   \n",
       "4  https://www.tiktok.com/@io.dreamer_mk/video/69...     115300   \n",
       "\n",
       "                                            hashtags  \n",
       "0                                                 []  \n",
       "1                                                 []  \n",
       "2  [{'id': '23428', 'name': 'tiktok', 'title': ''...  \n",
       "3                                                 []  \n",
       "4  [{'id': '1627704798586882', 'name': 'tiktok教室'...  "
      ]
     },
     "execution_count": 4,
     "metadata": {},
     "output_type": "execute_result"
    }
   ],
   "source": [
    "json_file = './Resources/trending.json'\n",
    "with open(json_file, 'r', encoding='utf-8') as j:\n",
    "     data = json.loads(j.read())\n",
    "\n",
    "tiktok_data_df = pd.DataFrame(data['collector'], columns=['id', 'text', 'webVideoUrl', 'playCount', 'hashtags'])\n",
    "tiktok_data_df.head()"
   ]
  },
  {
   "cell_type": "code",
   "execution_count": 5,
   "metadata": {},
   "outputs": [
    {
     "ename": "ModuleNotFoundError",
     "evalue": "No module named 'psycopg2'",
     "output_type": "error",
     "traceback": [
      "\u001b[0;31m---------------------------------------------------------------------------\u001b[0m",
      "\u001b[0;31mModuleNotFoundError\u001b[0m                       Traceback (most recent call last)",
      "\u001b[0;32m<ipython-input-5-6d3edf986ab4>\u001b[0m in \u001b[0;36m<module>\u001b[0;34m\u001b[0m\n\u001b[1;32m      1\u001b[0m \u001b[0;31m# Connect to Database\u001b[0m\u001b[0;34m\u001b[0m\u001b[0;34m\u001b[0m\u001b[0;34m\u001b[0m\u001b[0m\n\u001b[1;32m      2\u001b[0m \u001b[0mrds_connection_string\u001b[0m \u001b[0;34m=\u001b[0m \u001b[0;34m\"trends_project:123456@localhost:5432/trending_db\"\u001b[0m\u001b[0;34m\u001b[0m\u001b[0;34m\u001b[0m\u001b[0m\n\u001b[0;32m----> 3\u001b[0;31m \u001b[0mengine\u001b[0m \u001b[0;34m=\u001b[0m \u001b[0mcreate_engine\u001b[0m\u001b[0;34m(\u001b[0m\u001b[0;34mf'postgresql://{rds_connection_string}'\u001b[0m\u001b[0;34m)\u001b[0m\u001b[0;34m\u001b[0m\u001b[0;34m\u001b[0m\u001b[0m\n\u001b[0m",
      "\u001b[0;32m/opt/anaconda3/lib/python3.8/site-packages/sqlalchemy/engine/__init__.py\u001b[0m in \u001b[0;36mcreate_engine\u001b[0;34m(*args, **kwargs)\u001b[0m\n\u001b[1;32m    498\u001b[0m     \u001b[0mstrategy\u001b[0m \u001b[0;34m=\u001b[0m \u001b[0mkwargs\u001b[0m\u001b[0;34m.\u001b[0m\u001b[0mpop\u001b[0m\u001b[0;34m(\u001b[0m\u001b[0;34m\"strategy\"\u001b[0m\u001b[0;34m,\u001b[0m \u001b[0mdefault_strategy\u001b[0m\u001b[0;34m)\u001b[0m\u001b[0;34m\u001b[0m\u001b[0;34m\u001b[0m\u001b[0m\n\u001b[1;32m    499\u001b[0m     \u001b[0mstrategy\u001b[0m \u001b[0;34m=\u001b[0m \u001b[0mstrategies\u001b[0m\u001b[0;34m.\u001b[0m\u001b[0mstrategies\u001b[0m\u001b[0;34m[\u001b[0m\u001b[0mstrategy\u001b[0m\u001b[0;34m]\u001b[0m\u001b[0;34m\u001b[0m\u001b[0;34m\u001b[0m\u001b[0m\n\u001b[0;32m--> 500\u001b[0;31m     \u001b[0;32mreturn\u001b[0m \u001b[0mstrategy\u001b[0m\u001b[0;34m.\u001b[0m\u001b[0mcreate\u001b[0m\u001b[0;34m(\u001b[0m\u001b[0;34m*\u001b[0m\u001b[0margs\u001b[0m\u001b[0;34m,\u001b[0m \u001b[0;34m**\u001b[0m\u001b[0mkwargs\u001b[0m\u001b[0;34m)\u001b[0m\u001b[0;34m\u001b[0m\u001b[0;34m\u001b[0m\u001b[0m\n\u001b[0m\u001b[1;32m    501\u001b[0m \u001b[0;34m\u001b[0m\u001b[0m\n\u001b[1;32m    502\u001b[0m \u001b[0;34m\u001b[0m\u001b[0m\n",
      "\u001b[0;32m/opt/anaconda3/lib/python3.8/site-packages/sqlalchemy/engine/strategies.py\u001b[0m in \u001b[0;36mcreate\u001b[0;34m(self, name_or_url, **kwargs)\u001b[0m\n\u001b[1;32m     85\u001b[0m                 \u001b[0;32mif\u001b[0m \u001b[0mk\u001b[0m \u001b[0;32min\u001b[0m \u001b[0mkwargs\u001b[0m\u001b[0;34m:\u001b[0m\u001b[0;34m\u001b[0m\u001b[0;34m\u001b[0m\u001b[0m\n\u001b[1;32m     86\u001b[0m                     \u001b[0mdbapi_args\u001b[0m\u001b[0;34m[\u001b[0m\u001b[0mk\u001b[0m\u001b[0;34m]\u001b[0m \u001b[0;34m=\u001b[0m \u001b[0mpop_kwarg\u001b[0m\u001b[0;34m(\u001b[0m\u001b[0mk\u001b[0m\u001b[0;34m)\u001b[0m\u001b[0;34m\u001b[0m\u001b[0;34m\u001b[0m\u001b[0m\n\u001b[0;32m---> 87\u001b[0;31m             \u001b[0mdbapi\u001b[0m \u001b[0;34m=\u001b[0m \u001b[0mdialect_cls\u001b[0m\u001b[0;34m.\u001b[0m\u001b[0mdbapi\u001b[0m\u001b[0;34m(\u001b[0m\u001b[0;34m**\u001b[0m\u001b[0mdbapi_args\u001b[0m\u001b[0;34m)\u001b[0m\u001b[0;34m\u001b[0m\u001b[0;34m\u001b[0m\u001b[0m\n\u001b[0m\u001b[1;32m     88\u001b[0m \u001b[0;34m\u001b[0m\u001b[0m\n\u001b[1;32m     89\u001b[0m         \u001b[0mdialect_args\u001b[0m\u001b[0;34m[\u001b[0m\u001b[0;34m\"dbapi\"\u001b[0m\u001b[0;34m]\u001b[0m \u001b[0;34m=\u001b[0m \u001b[0mdbapi\u001b[0m\u001b[0;34m\u001b[0m\u001b[0;34m\u001b[0m\u001b[0m\n",
      "\u001b[0;32m/opt/anaconda3/lib/python3.8/site-packages/sqlalchemy/dialects/postgresql/psycopg2.py\u001b[0m in \u001b[0;36mdbapi\u001b[0;34m(cls)\u001b[0m\n\u001b[1;32m    776\u001b[0m     \u001b[0;34m@\u001b[0m\u001b[0mclassmethod\u001b[0m\u001b[0;34m\u001b[0m\u001b[0;34m\u001b[0m\u001b[0m\n\u001b[1;32m    777\u001b[0m     \u001b[0;32mdef\u001b[0m \u001b[0mdbapi\u001b[0m\u001b[0;34m(\u001b[0m\u001b[0mcls\u001b[0m\u001b[0;34m)\u001b[0m\u001b[0;34m:\u001b[0m\u001b[0;34m\u001b[0m\u001b[0;34m\u001b[0m\u001b[0m\n\u001b[0;32m--> 778\u001b[0;31m         \u001b[0;32mimport\u001b[0m \u001b[0mpsycopg2\u001b[0m\u001b[0;34m\u001b[0m\u001b[0;34m\u001b[0m\u001b[0m\n\u001b[0m\u001b[1;32m    779\u001b[0m \u001b[0;34m\u001b[0m\u001b[0m\n\u001b[1;32m    780\u001b[0m         \u001b[0;32mreturn\u001b[0m \u001b[0mpsycopg2\u001b[0m\u001b[0;34m\u001b[0m\u001b[0;34m\u001b[0m\u001b[0m\n",
      "\u001b[0;31mModuleNotFoundError\u001b[0m: No module named 'psycopg2'"
     ]
    }
   ],
   "source": [
    "# Connect to Database \n",
    "rds_connection_string = \"trends_project:123456@localhost:5432/trending_db\"\n",
    "engine = create_engine(f'postgresql://{rds_connection_string}')"
   ]
  },
  {
   "cell_type": "code",
   "execution_count": null,
   "metadata": {},
   "outputs": [],
   "source": [
    "engine.table_names() "
   ]
  },
  {
   "cell_type": "markdown",
   "metadata": {},
   "source": [
    "## Transform Youtube Data "
   ]
  },
  {
   "cell_type": "code",
   "execution_count": null,
   "metadata": {},
   "outputs": [],
   "source": [
    "new_youtube_df = youtube_data_df.rename(columns={\"title\": \"video_title\", \"views\": \"video_view_count\"})\n",
    "\n",
    "new_youtube_df.head()"
   ]
  },
  {
   "cell_type": "code",
   "execution_count": null,
   "metadata": {
    "scrolled": true
   },
   "outputs": [],
   "source": [
    "lst_col = 'name'\n",
    "new_youtube_df['name'] = new_youtube_df['tags'].str.split('|')\n",
    "\n",
    "new_youtube_df2 = pd.DataFrame({col:np.repeat(new_youtube_df[col].values, new_youtube_df[lst_col].str.len())\n",
    "              for col in new_youtube_df.columns.difference([lst_col])\n",
    "             }).assign(**{lst_col:np.concatenate(new_youtube_df[lst_col].values)})[new_youtube_df.columns.tolist()]\n",
    "\n",
    "#new_youtube_df2 = youtube_data_df.rename(columns={\"video_id\": \"platform_id\", \"views\": \"view_count\", \"split_tags\":\"name\"})\n",
    "\n",
    "new_youtube_df2 = new_youtube_df2.drop(columns=['tags'])\n",
    "new_youtube_df2.head()"
   ]
  },
  {
   "cell_type": "code",
   "execution_count": null,
   "metadata": {},
   "outputs": [],
   "source": [
    "test_tiktok_data_df = pd.json_normalize(data['collector'], record_path=\"hashtags\", meta=['id', 'text', 'webVideoUrl', 'playCount'], meta_prefix='video_')\n",
    "test_tiktok_data_df = test_tiktok_data_df.drop(columns=['id','title','cover'])\n",
    "test_tiktok_data_df"
   ]
  },
  {
   "cell_type": "markdown",
   "metadata": {},
   "source": [
    "## Transform Tiktok Data"
   ]
  },
  {
   "cell_type": "code",
   "execution_count": null,
   "metadata": {},
   "outputs": [],
   "source": [
    "test_tiktok_data_df = test_tiktok_data_df.rename(columns={\"video_text\": \"video_title\", \"video_webVideoUrl\": \"video_url\", \"video_playCount\": \"video_view_count\"})\n",
    "test_tiktok_data_df.head()"
   ]
  },
  {
   "cell_type": "markdown",
   "metadata": {},
   "source": [
    "### Merge Data"
   ]
  },
  {
   "cell_type": "code",
   "execution_count": null,
   "metadata": {},
   "outputs": [],
   "source": [
    "combined_tags_df = test_tiktok_data_df.append(new_youtube_df2)\n",
    "combined_tags_df.head()"
   ]
  },
  {
   "cell_type": "markdown",
   "metadata": {},
   "source": [
    "## Load Data "
   ]
  },
  {
   "cell_type": "code",
   "execution_count": null,
   "metadata": {},
   "outputs": [],
   "source": [
    "combined_tags_df.to_sql('tags', if_exists='replace', con=engine, index=False) \n",
    "#engine.execute('select * from tags').fetchall()"
   ]
  },
  {
   "cell_type": "code",
   "execution_count": null,
   "metadata": {},
   "outputs": [],
   "source": [
    "tagcount = combined_tags_df['name'].nunique()\n",
    "print(f'Total unique tags: {tagcount:,d}')"
   ]
  },
  {
   "cell_type": "code",
   "execution_count": null,
   "metadata": {},
   "outputs": [],
   "source": [
    "videocount = combined_tags_df['video_id'].nunique()\n",
    "print(f'Total unique videos: {videocount:,d}')"
   ]
  },
  {
   "cell_type": "markdown",
   "metadata": {},
   "source": [
    "# Analyze Data !"
   ]
  },
  {
   "cell_type": "code",
   "execution_count": null,
   "metadata": {},
   "outputs": [],
   "source": [
    "summarydf = combined_tags_df.groupby(['name'])['video_view_count'].sum().reset_index()\n",
    "summarydf.sort_values('video_view_count', ascending=False)"
   ]
  },
  {
   "cell_type": "markdown",
   "metadata": {},
   "source": [
    "## Top 10 Tags"
   ]
  },
  {
   "cell_type": "code",
   "execution_count": null,
   "metadata": {},
   "outputs": [],
   "source": [
    "summarydf.sort_values('video_view_count', ascending=False).head(10)"
   ]
  },
  {
   "cell_type": "markdown",
   "metadata": {},
   "source": [
    "## Bottom 10 Tags"
   ]
  },
  {
   "cell_type": "code",
   "execution_count": null,
   "metadata": {},
   "outputs": [],
   "source": [
    "summarydf.sort_values('video_view_count', ascending=False).tail(10)"
   ]
  },
  {
   "cell_type": "markdown",
   "metadata": {},
   "source": [
    "## Top 10 Videos by \"Pop\""
   ]
  },
  {
   "cell_type": "code",
   "execution_count": null,
   "metadata": {},
   "outputs": [],
   "source": [
    "def make_clickable(val):\n",
    "    return '<a href=\"{}\">{}</a>'.format(val,val)"
   ]
  },
  {
   "cell_type": "code",
   "execution_count": null,
   "metadata": {},
   "outputs": [],
   "source": [
    "popdf = combined_tags_df[combined_tags_df['name'] == \"\\\"Pop\\\"\"]\n",
    "popdf.head(10).style.format({'video_url': make_clickable})"
   ]
  },
  {
   "cell_type": "markdown",
   "metadata": {},
   "source": [
    "## Top 10 Videos by \"funny\""
   ]
  },
  {
   "cell_type": "code",
   "execution_count": null,
   "metadata": {},
   "outputs": [],
   "source": [
    "funnydf = combined_tags_df[combined_tags_df['name'] == \"\\\"funny\\\"\"]\n",
    "funnydf.head(10).style.format({'video_url': make_clickable})"
   ]
  },
  {
   "cell_type": "code",
   "execution_count": null,
   "metadata": {},
   "outputs": [],
   "source": []
  },
  {
   "cell_type": "code",
   "execution_count": null,
   "metadata": {},
   "outputs": [],
   "source": []
  },
  {
   "cell_type": "code",
   "execution_count": null,
   "metadata": {},
   "outputs": [],
   "source": []
  }
 ],
 "metadata": {
  "kernelspec": {
   "display_name": "Python 3",
   "language": "python",
   "name": "python3"
  },
  "language_info": {
   "codemirror_mode": {
    "name": "ipython",
    "version": 3
   },
   "file_extension": ".py",
   "mimetype": "text/x-python",
   "name": "python",
   "nbconvert_exporter": "python",
   "pygments_lexer": "ipython3",
   "version": "3.8.5"
  }
 },
 "nbformat": 4,
 "nbformat_minor": 4
}
